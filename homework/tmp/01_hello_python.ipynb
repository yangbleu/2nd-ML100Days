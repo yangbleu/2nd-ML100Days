{
 "cells": [
  {
   "cell_type": "code",
   "execution_count": 2,
   "metadata": {},
   "outputs": [
    {
     "data": {
      "text/plain": [
       "1"
      ]
     },
     "execution_count": 2,
     "metadata": {},
     "output_type": "execute_result"
    }
   ],
   "source": [
    "a = 0\n",
    "b = 1\n",
    "a + b"
   ]
  },
  {
   "cell_type": "code",
   "execution_count": 3,
   "metadata": {},
   "outputs": [
    {
     "name": "stdout",
     "output_type": "stream",
     "text": [
      "4950\n"
     ]
    }
   ],
   "source": [
    "total = 0\n",
    "for i in range(100):\n",
    "    total += i\n",
    "print(total)"
   ]
  },
  {
   "cell_type": "code",
   "execution_count": 2,
   "metadata": {},
   "outputs": [
    {
     "name": "stdout",
     "output_type": "stream",
     "text": [
      "[[6.91563014 5.89141587 2.60061817 ... 2.57454009 2.9422134  1.96868996]\n",
      " [5.13996173 3.75676643 5.13833882 ... 1.40229137 5.79303925 9.09673919]\n",
      " [5.59177436 9.1159238  1.32971524 ... 3.05806403 4.70392755 4.15155613]\n",
      " ...\n",
      " [9.0576312  1.15960034 1.19493087 ... 9.04286327 6.30238802 3.79323268]\n",
      " [5.4416149  5.2709007  4.44793283 ... 2.75801235 8.47264377 3.00374391]\n",
      " [4.09314665 6.85514387 3.21230988 ... 9.36607835 0.02226063 7.04248293]]\n",
      "\n",
      "Shape:  (1000, 1000)\n",
      "Time took to read: 0.732598066329956 seconds.\n"
     ]
    }
   ],
   "source": [
    "import numpy as np\n",
    "import time\n",
    "n_samples = 1000000\n",
    "# Write random floating poin numbers as string on a local csv file\n",
    "with open('fdata.txt', 'w') as fdata:\n",
    "    for _ in range(n_samples):\n",
    "        fdata.write(str(10*np.random.random())+',')\n",
    "\n",
    "# Read the csv in a list, convert to ndarray (reshape just for fun)\n",
    "t1 = time.time()\n",
    "with open('fdata.txt','r') as fdata:\n",
    "    datastr = fdata.read()\n",
    "lst = datastr.split(',')\n",
    "lst.pop()\n",
    "array_lst = np.array(lst, dtype = float).reshape(1000,1000)\n",
    "t2 = time.time()\n",
    "print(array_lst)\n",
    "print('\\nShape: ', array_lst.shape)\n",
    "print(f'Time took to read: {t2-t1} seconds.')"
   ]
  },
  {
   "cell_type": "code",
   "execution_count": 3,
   "metadata": {},
   "outputs": [],
   "source": [
    "np.save('fnumpy.npy', array_lst)"
   ]
  },
  {
   "cell_type": "code",
   "execution_count": 4,
   "metadata": {},
   "outputs": [
    {
     "data": {
      "text/plain": [
       "array([[6.91563014, 5.89141587, 2.60061817, ..., 2.57454009, 2.9422134 ,\n",
       "        1.96868996],\n",
       "       [5.13996173, 3.75676643, 5.13833882, ..., 1.40229137, 5.79303925,\n",
       "        9.09673919],\n",
       "       [5.59177436, 9.1159238 , 1.32971524, ..., 3.05806403, 4.70392755,\n",
       "        4.15155613],\n",
       "       ...,\n",
       "       [9.0576312 , 1.15960034, 1.19493087, ..., 9.04286327, 6.30238802,\n",
       "        3.79323268],\n",
       "       [5.4416149 , 5.2709007 , 4.44793283, ..., 2.75801235, 8.47264377,\n",
       "        3.00374391],\n",
       "       [4.09314665, 6.85514387, 3.21230988, ..., 9.36607835, 0.02226063,\n",
       "        7.04248293]])"
      ]
     },
     "execution_count": 4,
     "metadata": {},
     "output_type": "execute_result"
    }
   ],
   "source": [
    "array_back = np.load('fnumpy.npy')\n",
    "array_back"
   ]
  },
  {
   "cell_type": "code",
   "execution_count": null,
   "metadata": {},
   "outputs": [],
   "source": []
  }
 ],
 "metadata": {
  "kernelspec": {
   "display_name": "Python 3",
   "language": "python",
   "name": "python3"
  },
  "language_info": {
   "codemirror_mode": {
    "name": "ipython",
    "version": 3
   },
   "file_extension": ".py",
   "mimetype": "text/x-python",
   "name": "python",
   "nbconvert_exporter": "python",
   "pygments_lexer": "ipython3",
   "version": "3.7.3"
  }
 },
 "nbformat": 4,
 "nbformat_minor": 2
}
