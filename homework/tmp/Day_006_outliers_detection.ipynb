{
 "cells": [
  {
   "cell_type": "markdown",
   "metadata": {},
   "source": [
    "# 檢視 Outliers\n",
    "### 為何會有 outliers, 常見的 outlier 原因\n",
    "* 未知值，隨意填補 (約定俗成的代入)，如年齡常見 0,999\n",
    "* 可能的錯誤紀錄/手誤/系統性錯誤，如某本書在某筆訂單的銷售量 = 1000 本"
   ]
  },
  {
   "cell_type": "code",
   "execution_count": 21,
   "metadata": {},
   "outputs": [
    {
     "name": "stdout",
     "output_type": "stream",
     "text": [
      "Path of read in data: ../data/application_train.csv\n",
      "Done\n"
     ]
    }
   ],
   "source": [
    "# Import 需要的套件\n",
    "import os\n",
    "import numpy as np\n",
    "import pandas as pd\n",
    "import matplotlib.pyplot as plt\n",
    "\n",
    "%matplotlib inline\n",
    "\n",
    "# 設定 data_path\n",
    "dir_data = '../data/'\n",
    "f_app = os.path.join(dir_data, 'application_train.csv')\n",
    "print('Path of read in data: %s' % (f_app))\n",
    "app_train = pd.read_csv(f_app)\n",
    "print('Done')"
   ]
  },
  {
   "cell_type": "code",
   "execution_count": 26,
   "metadata": {},
   "outputs": [
    {
     "name": "stdout",
     "output_type": "stream",
     "text": [
      "   SK_ID_CURR  TARGET NAME_CONTRACT_TYPE CODE_GENDER FLAG_OWN_CAR  \\\n",
      "0      100002       1         Cash loans           M            N   \n",
      "1      100003       0         Cash loans           F            N   \n",
      "2      100004       0    Revolving loans           M            Y   \n",
      "3      100006       0         Cash loans           F            N   \n",
      "4      100007       0         Cash loans           M            N   \n",
      "\n",
      "  FLAG_OWN_REALTY  CNT_CHILDREN  AMT_INCOME_TOTAL  AMT_CREDIT  AMT_ANNUITY  \\\n",
      "0               Y             0          202500.0    406597.5      24700.5   \n",
      "1               N             0          270000.0   1293502.5      35698.5   \n",
      "2               Y             0           67500.0    135000.0       6750.0   \n",
      "3               Y             0          135000.0    312682.5      29686.5   \n",
      "4               Y             0          121500.0    513000.0      21865.5   \n",
      "\n",
      "   ...  FLAG_DOCUMENT_18 FLAG_DOCUMENT_19 FLAG_DOCUMENT_20 FLAG_DOCUMENT_21  \\\n",
      "0  ...                 0                0                0                0   \n",
      "1  ...                 0                0                0                0   \n",
      "2  ...                 0                0                0                0   \n",
      "3  ...                 0                0                0                0   \n",
      "4  ...                 0                0                0                0   \n",
      "\n",
      "  AMT_REQ_CREDIT_BUREAU_HOUR AMT_REQ_CREDIT_BUREAU_DAY  \\\n",
      "0                        0.0                       0.0   \n",
      "1                        0.0                       0.0   \n",
      "2                        0.0                       0.0   \n",
      "3                        NaN                       NaN   \n",
      "4                        0.0                       0.0   \n",
      "\n",
      "   AMT_REQ_CREDIT_BUREAU_WEEK  AMT_REQ_CREDIT_BUREAU_MON  \\\n",
      "0                         0.0                        0.0   \n",
      "1                         0.0                        0.0   \n",
      "2                         0.0                        0.0   \n",
      "3                         NaN                        NaN   \n",
      "4                         0.0                        0.0   \n",
      "\n",
      "   AMT_REQ_CREDIT_BUREAU_QRT  AMT_REQ_CREDIT_BUREAU_YEAR  \n",
      "0                        0.0                         1.0  \n",
      "1                        0.0                         0.0  \n",
      "2                        0.0                         0.0  \n",
      "3                        NaN                         NaN  \n",
      "4                        0.0                         0.0  \n",
      "\n",
      "[5 rows x 122 columns]\n",
      "0    -9461\n",
      "1   -16765\n",
      "2   -19046\n",
      "3   -19005\n",
      "4   -19932\n",
      "Name: DAYS_BIRTH, dtype: int64\n",
      "0    1\n",
      "1    0\n",
      "2    0\n",
      "3    0\n",
      "4    0\n",
      "Name: TARGET, dtype: int64\n"
     ]
    }
   ],
   "source": [
    "print(app_train.head())\n",
    "print(app_train['DAYS_BIRTH'].head())\n",
    "print(app_train['TARGET'].head())"
   ]
  },
  {
   "cell_type": "markdown",
   "metadata": {},
   "source": [
    "## 開始檢視不同欄位是否有異常值"
   ]
  },
  {
   "cell_type": "code",
   "execution_count": 23,
   "metadata": {},
   "outputs": [
    {
     "name": "stdout",
     "output_type": "stream",
     "text": [
      "count    307511.000000\n",
      "mean         43.936973\n",
      "std          11.956133\n",
      "min          20.517808\n",
      "25%          34.008219\n",
      "50%          43.150685\n",
      "75%          53.923288\n",
      "max          69.120548\n",
      "Name: DAYS_BIRTH, dtype: float64\n"
     ]
    }
   ],
   "source": [
    "# DAYS_BIRTH: 客戶申請貸款時的年齡\n",
    "print((app_train['DAYS_BIRTH'] / (-365)).describe())"
   ]
  },
  {
   "cell_type": "code",
   "execution_count": 24,
   "metadata": {
    "scrolled": true
   },
   "outputs": [
    {
     "name": "stdout",
     "output_type": "stream",
     "text": [
      "count    307511.000000\n",
      "mean        174.835742\n",
      "std         387.056895\n",
      "min         -49.073973\n",
      "25%          -7.561644\n",
      "50%          -3.323288\n",
      "75%          -0.791781\n",
      "max        1000.665753\n",
      "Name: DAYS_EMPLOYED, dtype: float64\n"
     ]
    },
    {
     "data": {
      "image/png": "[encoded data removed]",
      "text/plain": [
       "<Figure size 432x288 with 1 Axes>"
      ]
     },
     "metadata": {
      "needs_background": "light"
     },
     "output_type": "display_data"
    },
    {
     "data": {
      "text/plain": [
       " 365243    55374\n",
       "-200         156\n",
       "-224         152\n",
       "-199         151\n",
       "-230         151\n",
       "-212         150\n",
       "-229         143\n",
       "-384         143\n",
       "-231         140\n",
       "-215         138\n",
       "-207         138\n",
       "-188         137\n",
       "-216         137\n",
       "-116         136\n",
       "-196         136\n",
       "-222         135\n",
       "-193         134\n",
       "-195         133\n",
       "-214         132\n",
       "-213         131\n",
       "-254         131\n",
       "-381         130\n",
       "-201         130\n",
       "-233         128\n",
       "-185         128\n",
       "-237         127\n",
       "-194         127\n",
       "-184         126\n",
       "-234         126\n",
       "-209         125\n",
       "           ...  \n",
       "-12768         1\n",
       "-10604         1\n",
       "-10857         1\n",
       "-8810          1\n",
       "-14955         1\n",
       "-11113         1\n",
       "-11369         1\n",
       "-13420         1\n",
       "-10346         1\n",
       "-10860         1\n",
       "-12649         1\n",
       "-10358         1\n",
       "-12650         1\n",
       "-10870         1\n",
       "-12919         1\n",
       "-14968         1\n",
       "-13175         1\n",
       "-11382         1\n",
       "-10101         1\n",
       "-12150         1\n",
       "-10603         1\n",
       "-12393         1\n",
       "-9694          1\n",
       "-11741         1\n",
       "-13162         1\n",
       "-11115         1\n",
       "-11371         1\n",
       "-11883         1\n",
       "-13536         1\n",
       "-8795          1\n",
       "Name: DAYS_EMPLOYED, Length: 12574, dtype: int64"
      ]
     },
     "execution_count": 24,
     "metadata": {},
     "output_type": "execute_result"
    }
   ],
   "source": [
    "# DAYS_EMPLOYED: 申請貸款前，申請人已在現職工作的時間\n",
    "print((app_train['DAYS_EMPLOYED'] / 365).describe())\n",
    "plt.hist(app_train['DAYS_EMPLOYED'])\n",
    "plt.show()\n",
    "app_train['DAYS_EMPLOYED'].value_counts()"
   ]
  },
  {
   "cell_type": "markdown",
   "metadata": {},
   "source": [
    "### 從上面的圖與數值可以看出, 365243 顯然是個奇怪的數值"
   ]
  },
  {
   "cell_type": "code",
   "execution_count": 25,
   "metadata": {
    "scrolled": true
   },
   "outputs": [
    {
     "name": "stdout",
     "output_type": "stream",
     "text": [
      "The non-anomalies default on 8.66% of loans\n",
      "The anomalies default on 5.40% of loans\n",
      "There are 55374 anomalous days of employment\n"
     ]
    }
   ],
   "source": [
    "anom = app_train[app_train['DAYS_EMPLOYED'] == 365243]\n",
    "non_anom = app_train[app_train['DAYS_EMPLOYED'] != 365243]\n",
    "print('The non-anomalies default on %0.2f%% of loans' % (100 * non_anom['TARGET'].mean()))\n",
    "print('The anomalies default on %0.2f%% of loans' % (100 * anom['TARGET'].mean()))\n",
    "print('There are %d anomalous days of employment' % len(anom))"
   ]
  },
  {
   "cell_type": "code",
   "execution_count": 27,
   "metadata": {},
   "outputs": [
    {
     "name": "stdout",
     "output_type": "stream",
     "text": [
      "False    252137\n",
      "True      55374\n",
      "Name: DAYS_EMPLOYED_ANOM, dtype: int64\n"
     ]
    },
    {
     "data": {
      "image/png": "[encoded data removed]",
      "text/plain": [
       "<Figure size 432x288 with 1 Axes>"
      ]
     },
     "metadata": {
      "needs_background": "light"
     },
     "output_type": "display_data"
    }
   ],
   "source": [
    "# 新增一個欄位: DAYS_EMPLOYED_ANOM 來標記 DAYS_EMPLOYED 是否異常\n",
    "app_train['DAYS_EMPLOYED_ANOM'] = app_train[\"DAYS_EMPLOYED\"] == 365243\n",
    "print(app_train['DAYS_EMPLOYED_ANOM'].value_counts())\n",
    "\n",
    "# 這邊我們用 nan 將異常值取代\n",
    "app_train['DAYS_EMPLOYED'].replace({365243: np.nan}, inplace = True)\n",
    "\n",
    "app_train['DAYS_EMPLOYED'].plot.hist(title = 'Days Employment Histogram');\n",
    "plt.xlabel('Days Employment');"
   ]
  },
  {
   "cell_type": "code",
   "execution_count": 40,
   "metadata": {
    "scrolled": true
   },
   "outputs": [
    {
     "data": {
      "image/png": "[encoded data removed]",
      "text/plain": [
       "<Figure size 432x288 with 1 Axes>"
      ]
     },
     "metadata": {
      "needs_background": "light"
     },
     "output_type": "display_data"
    },
    {
     "data": {
      "text/plain": [
       "7.0     7424\n",
       "6.0     6382\n",
       "3.0     6370\n",
       "8.0     5887\n",
       "2.0     5852\n",
       "4.0     5557\n",
       "1.0     5280\n",
       "9.0     5020\n",
       "10.0    4806\n",
       "14.0    4594\n",
       "13.0    4566\n",
       "12.0    4257\n",
       "11.0    4161\n",
       "5.0     3595\n",
       "15.0    3580\n",
       "16.0    3355\n",
       "17.0    2899\n",
       "64.0    2443\n",
       "18.0    2418\n",
       "0.0     2134\n",
       "19.0    1864\n",
       "20.0    1527\n",
       "21.0    1462\n",
       "22.0    1250\n",
       "24.0    1150\n",
       "23.0    1067\n",
       "65.0     891\n",
       "25.0     865\n",
       "26.0     580\n",
       "28.0     542\n",
       "        ... \n",
       "30.0     326\n",
       "31.0     267\n",
       "32.0     208\n",
       "34.0     183\n",
       "35.0     157\n",
       "33.0     132\n",
       "36.0     124\n",
       "38.0      97\n",
       "40.0      85\n",
       "39.0      78\n",
       "37.0      75\n",
       "41.0      58\n",
       "42.0      42\n",
       "44.0      21\n",
       "43.0      19\n",
       "54.0      12\n",
       "45.0      11\n",
       "49.0       6\n",
       "46.0       5\n",
       "55.0       4\n",
       "51.0       3\n",
       "63.0       2\n",
       "91.0       2\n",
       "69.0       1\n",
       "48.0       1\n",
       "52.0       1\n",
       "56.0       1\n",
       "47.0       1\n",
       "50.0       1\n",
       "57.0       1\n",
       "Name: OWN_CAR_AGE, Length: 62, dtype: int64"
      ]
     },
     "execution_count": 40,
     "metadata": {},
     "output_type": "execute_result"
    }
   ],
   "source": [
    "# 檢查 OWN_CAR_AGE: 貸款人的車齡\n",
    "plt.hist(app_train[~app_train.OWN_CAR_AGE.isnull()]['OWN_CAR_AGE'])\n",
    "plt.xlabel('OWN_CAR_AGE')\n",
    "plt.show()\n",
    "app_train['OWN_CAR_AGE'].value_counts()"
   ]
  },
  {
   "cell_type": "code",
   "execution_count": 41,
   "metadata": {
    "scrolled": true
   },
   "outputs": [
    {
     "data": {
      "text/plain": [
       "64.0    2443\n",
       "65.0     891\n",
       "54.0      12\n",
       "55.0       4\n",
       "51.0       3\n",
       "91.0       2\n",
       "63.0       2\n",
       "57.0       1\n",
       "69.0       1\n",
       "52.0       1\n",
       "56.0       1\n",
       "Name: OWN_CAR_AGE, dtype: int64"
      ]
     },
     "execution_count": 41,
     "metadata": {},
     "output_type": "execute_result"
    }
   ],
   "source": [
    "app_train[app_train['OWN_CAR_AGE'] > 50]['OWN_CAR_AGE'].value_counts()"
   ]
  },
  {
   "cell_type": "markdown",
   "metadata": {},
   "source": [
    "### 從上面我們可以發現車齡為 64, 65 的人特別多，是否合理?\n",
    "* 記得，這沒有正確答案 - 但我們總是可以給他們一些標記，讓最後的模型來決定"
   ]
  },
  {
   "cell_type": "code",
   "execution_count": 42,
   "metadata": {},
   "outputs": [
    {
     "name": "stdout",
     "output_type": "stream",
     "text": [
      "Target of OWN_CAR_AGE >= 50: 8.36%\n",
      "Target of OWN_CAR_AGE < 50: 7.21%\n"
     ]
    }
   ],
   "source": [
    "print(\"Target of OWN_CAR_AGE >= 50: %.2f%%\" % (app_train[app_train['OWN_CAR_AGE'] >= 50 ]['TARGET'].mean() * 100 ))\n",
    "print(\"Target of OWN_CAR_AGE < 50: %.2f%%\" % (app_train[app_train['OWN_CAR_AGE'] < 50]['TARGET'].mean() * 100))\n",
    "\n",
    "app_train['OWN_CAR_AGE_ANOM'] = app_train['OWN_CAR_AGE'] >= 50"
   ]
  },
  {
   "cell_type": "code",
   "execution_count": null,
   "metadata": {},
   "outputs": [],
   "source": []
  }
 ],
 "metadata": {
  "anaconda-cloud": {},
  "kernelspec": {
   "display_name": "Python 3",
   "language": "python",
   "name": "python3"
  },
  "language_info": {
   "codemirror_mode": {
    "name": "ipython",
    "version": 3
   },
   "file_extension": ".py",
   "mimetype": "text/x-python",
   "name": "python",
   "nbconvert_exporter": "python",
   "pygments_lexer": "ipython3",
   "version": "3.7.3"
  }
 },
 "nbformat": 4,
 "nbformat_minor": 1
}
